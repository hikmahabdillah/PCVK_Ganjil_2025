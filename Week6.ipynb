{
  "nbformat": 4,
  "nbformat_minor": 0,
  "metadata": {
    "colab": {
      "provenance": [],
      "authorship_tag": "ABX9TyOe4v0rWZdtzA6v/jL4BIvU",
      "include_colab_link": true
    },
    "kernelspec": {
      "name": "python3",
      "display_name": "Python 3"
    },
    "language_info": {
      "name": "python"
    }
  },
  "cells": [
    {
      "cell_type": "markdown",
      "metadata": {
        "id": "view-in-github",
        "colab_type": "text"
      },
      "source": [
        "<a href=\"https://colab.research.google.com/github/hikmahabdillah/PCVK_Ganjil_2025/blob/main/Week6.ipynb\" target=\"_parent\"><img src=\"https://colab.research.google.com/assets/colab-badge.svg\" alt=\"Open In Colab\"/></a>"
      ]
    },
    {
      "cell_type": "markdown",
      "source": [
        "Nama: Hikmah Aldrin A\n",
        "\n",
        "Kelas: 3A\n",
        "\n",
        "NIM: 2341720049"
      ],
      "metadata": {
        "id": "TsoCMOLp_u6g"
      }
    },
    {
      "cell_type": "markdown",
      "source": [
        "#PRAKTIKUM"
      ],
      "metadata": {
        "id": "8gBFfYzx_v4y"
      }
    },
    {
      "cell_type": "code",
      "execution_count": null,
      "metadata": {
        "id": "_VC6_Cqk_sEv"
      },
      "outputs": [],
      "source": []
    }
  ]
}